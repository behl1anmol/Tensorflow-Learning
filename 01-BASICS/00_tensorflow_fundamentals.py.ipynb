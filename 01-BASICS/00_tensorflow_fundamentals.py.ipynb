{
 "cells": [
  {
   "cell_type": "markdown",
   "source": [
    "# We are going to cover some of the most fundamental concepts of tensors using TensorFlow\n",
    "## More specifically, we are going to cover:\n",
    "* Introduction to tensors\n",
    "* Getting information from Tensors\n",
    "* Manipulating Tensors\n",
    "* Tensors & NumPy\n",
    "* USing @tf.function (a way to speed up regular python functions)\n",
    "* Using GPUs with Tensorflow(or TPU)\n",
    "* Exercises to try yourself."
   ],
   "metadata": {
    "collapsed": false,
    "pycharm": {
     "name": "#%% md\n"
    }
   }
  },
  {
   "cell_type": "markdown",
   "source": [
    "# Tensorflow Docker instance command\n",
    "nvidia-docker run -it -p 8888:8888 tensorflow_customized:latest-gpu-jupyter\n"
   ],
   "metadata": {
    "collapsed": false,
    "pycharm": {
     "name": "#%% md\n"
    }
   }
  },
  {
   "cell_type": "code",
   "execution_count": 1,
   "outputs": [
    {
     "name": "stdout",
     "output_type": "stream",
     "text": [
      "Tue Jul 12 02:50:13 2022       \r\n",
      "+-----------------------------------------------------------------------------+\r\n",
      "| NVIDIA-SMI 510.73.05    Driver Version: 510.73.05    CUDA Version: 11.6     |\r\n",
      "|-------------------------------+----------------------+----------------------+\r\n",
      "| GPU  Name        Persistence-M| Bus-Id        Disp.A | Volatile Uncorr. ECC |\r\n",
      "| Fan  Temp  Perf  Pwr:Usage/Cap|         Memory-Usage | GPU-Util  Compute M. |\r\n",
      "|                               |                      |               MIG M. |\r\n",
      "|===============================+======================+======================|\r\n",
      "|   0  NVIDIA GeForce ...  Off  | 00000000:01:00.0 Off |                  N/A |\r\n",
      "| N/A   43C    P8    N/A /  N/A |      0MiB /  2048MiB |      0%      Default |\r\n",
      "|                               |                      |                  N/A |\r\n",
      "+-------------------------------+----------------------+----------------------+\r\n",
      "                                                                               \r\n",
      "+-----------------------------------------------------------------------------+\r\n",
      "| Processes:                                                                  |\r\n",
      "|  GPU   GI   CI        PID   Type   Process name                  GPU Memory |\r\n",
      "|        ID   ID                                                   Usage      |\r\n",
      "|=============================================================================|\r\n",
      "|  No running processes found                                                 |\r\n",
      "+-----------------------------------------------------------------------------+\r\n"
     ]
    }
   ],
   "source": [
    "!nvidia-smi"
   ],
   "metadata": {
    "collapsed": false,
    "pycharm": {
     "name": "#%%\n"
    }
   }
  },
  {
   "cell_type": "code",
   "execution_count": 2,
   "outputs": [
    {
     "name": "stdout",
     "output_type": "stream",
     "text": [
      "WARNING:tensorflow:From <ipython-input-2-5c320487a6e6>:3: is_gpu_available (from tensorflow.python.framework.test_util) is deprecated and will be removed in a future version.\n",
      "Instructions for updating:\n",
      "Use `tf.config.list_physical_devices('GPU')` instead.\n"
     ]
    },
    {
     "data": {
      "text/plain": "True"
     },
     "execution_count": 2,
     "metadata": {},
     "output_type": "execute_result"
    }
   ],
   "source": [
    "import tensorflow as tf\n",
    "# Check if GPU available\n",
    "tf.test.is_gpu_available(\n",
    "    cuda_only=False, min_cuda_compute_capability=None\n",
    ")"
   ],
   "metadata": {
    "collapsed": false,
    "pycharm": {
     "name": "#%%\n"
    }
   }
  },
  {
   "cell_type": "markdown",
   "source": [
    "# Introduction to Tensors"
   ],
   "metadata": {
    "collapsed": false,
    "pycharm": {
     "name": "#%% md\n"
    }
   }
  },
  {
   "cell_type": "code",
   "execution_count": 3,
   "outputs": [
    {
     "name": "stdout",
     "output_type": "stream",
     "text": [
      "2.9.1\n"
     ]
    }
   ],
   "source": [
    "# Import Tensorflow\n",
    "import tensorflow as tf\n",
    "print(tf.__version__)"
   ],
   "metadata": {
    "collapsed": false,
    "pycharm": {
     "name": "#%%\n"
    }
   }
  },
  {
   "cell_type": "code",
   "execution_count": 4,
   "outputs": [
    {
     "data": {
      "text/plain": "<tf.Tensor: shape=(), dtype=int32, numpy=7>"
     },
     "execution_count": 4,
     "metadata": {},
     "output_type": "execute_result"
    }
   ],
   "source": [
    "# Creating tensors with tf.constant()\n",
    "scalar = tf.constant(7)\n",
    "scalar"
   ],
   "metadata": {
    "collapsed": false,
    "pycharm": {
     "name": "#%%\n"
    }
   }
  },
  {
   "cell_type": "code",
   "execution_count": 5,
   "outputs": [
    {
     "data": {
      "text/plain": "0"
     },
     "execution_count": 5,
     "metadata": {},
     "output_type": "execute_result"
    }
   ],
   "source": [
    "# Check the number of dimensions of a tensor (ndim stands for number of dimensions)\n",
    "scalar.ndim"
   ],
   "metadata": {
    "collapsed": false,
    "pycharm": {
     "name": "#%%\n"
    }
   }
  },
  {
   "cell_type": "code",
   "execution_count": 6,
   "outputs": [
    {
     "data": {
      "text/plain": "<tf.Tensor: shape=(2,), dtype=int32, numpy=array([10, 10], dtype=int32)>"
     },
     "execution_count": 6,
     "metadata": {},
     "output_type": "execute_result"
    }
   ],
   "source": [
    "# Create a vector\n",
    "vector = tf.constant([10,10])\n",
    "vector"
   ],
   "metadata": {
    "collapsed": false,
    "pycharm": {
     "name": "#%%\n"
    }
   }
  },
  {
   "cell_type": "code",
   "execution_count": 7,
   "outputs": [
    {
     "data": {
      "text/plain": "1"
     },
     "execution_count": 7,
     "metadata": {},
     "output_type": "execute_result"
    }
   ],
   "source": [
    "# Check the dimensions of our vector\n",
    "vector.ndim"
   ],
   "metadata": {
    "collapsed": false,
    "pycharm": {
     "name": "#%%\n"
    }
   }
  },
  {
   "cell_type": "code",
   "execution_count": 8,
   "outputs": [
    {
     "data": {
      "text/plain": "<tf.Tensor: shape=(2, 2), dtype=int32, numpy=\narray([[10,  7],\n       [ 7, 10]], dtype=int32)>"
     },
     "execution_count": 8,
     "metadata": {},
     "output_type": "execute_result"
    }
   ],
   "source": [
    "# Create a matrix (has more than one dimensions)\n",
    "matrix = tf.constant([[10,7],\n",
    "                      [7,10]])\n",
    "matrix"
   ],
   "metadata": {
    "collapsed": false,
    "pycharm": {
     "name": "#%%\n"
    }
   }
  },
  {
   "cell_type": "code",
   "execution_count": 9,
   "outputs": [
    {
     "data": {
      "text/plain": "2"
     },
     "execution_count": 9,
     "metadata": {},
     "output_type": "execute_result"
    }
   ],
   "source": [
    "matrix.ndim"
   ],
   "metadata": {
    "collapsed": false,
    "pycharm": {
     "name": "#%%\n"
    }
   }
  },
  {
   "cell_type": "code",
   "execution_count": 10,
   "outputs": [
    {
     "data": {
      "text/plain": "<tf.Tensor: shape=(3, 2), dtype=float16, numpy=\narray([[10.,  7.],\n       [ 3.,  2.],\n       [ 8.,  9.]], dtype=float16)>"
     },
     "execution_count": 10,
     "metadata": {},
     "output_type": "execute_result"
    }
   ],
   "source": [
    "# Create another matrix\n",
    "another_matrix = tf.constant([[10., 7.],\n",
    "                              [3., 2.],\n",
    "                              [8., 9.]], dtype=tf.float16) # specify the data type with tensor\n",
    "another_matrix"
   ],
   "metadata": {
    "collapsed": false,
    "pycharm": {
     "name": "#%%\n"
    }
   }
  },
  {
   "cell_type": "code",
   "execution_count": 11,
   "outputs": [
    {
     "data": {
      "text/plain": "2"
     },
     "execution_count": 11,
     "metadata": {},
     "output_type": "execute_result"
    }
   ],
   "source": [
    "# What's the number of dimensions of another matrix?\n",
    "another_matrix.ndim"
   ],
   "metadata": {
    "collapsed": false,
    "pycharm": {
     "name": "#%%\n"
    }
   }
  },
  {
   "cell_type": "markdown",
   "source": [
    "# The total number of dimensions is the number of elements in shape."
   ],
   "metadata": {
    "collapsed": false,
    "pycharm": {
     "name": "#%% md\n"
    }
   }
  },
  {
   "cell_type": "code",
   "execution_count": 12,
   "outputs": [
    {
     "data": {
      "text/plain": "<tf.Tensor: shape=(3, 2, 3), dtype=int32, numpy=\narray([[[ 1,  2,  3],\n        [ 4,  5,  6]],\n\n       [[ 7,  8,  9],\n        [10, 11, 12]],\n\n       [[13, 14, 15],\n        [16, 17, 18]]], dtype=int32)>"
     },
     "execution_count": 12,
     "metadata": {},
     "output_type": "execute_result"
    }
   ],
   "source": [
    "# Let's create a tensor\n",
    "tensor = tf.constant([[[1,2,3],\n",
    "                       [4,5,6]],\n",
    "                      [[7,8,9],\n",
    "                       [10,11,12]],\n",
    "                      [[13,14,15],\n",
    "                       [16,17,18]]])\n",
    "tensor"
   ],
   "metadata": {
    "collapsed": false,
    "pycharm": {
     "name": "#%%\n"
    }
   }
  },
  {
   "cell_type": "code",
   "execution_count": 13,
   "outputs": [
    {
     "data": {
      "text/plain": "3"
     },
     "execution_count": 13,
     "metadata": {},
     "output_type": "execute_result"
    }
   ],
   "source": [
    "tensor.ndim"
   ],
   "metadata": {
    "collapsed": false,
    "pycharm": {
     "name": "#%%\n"
    }
   }
  },
  {
   "cell_type": "markdown",
   "source": [
    "What we've created so far:\n",
    "* Scalar: a single number\n",
    "* Vector: a number with direction (e.g. wind speed and direction)\n",
    "* Matrix: a 2-dimensional array of numbers\n",
    "* Tensor: an n-dimensional array of numbers (where n can be any number, a 0-dimensional tensor is a scalar, a 1-dimensional tensor is a vector)"
   ],
   "metadata": {
    "collapsed": false,
    "pycharm": {
     "name": "#%% md\n"
    }
   }
  },
  {
   "cell_type": "markdown",
   "source": [
    "### Creating tensors with `tf.variable`"
   ],
   "metadata": {
    "collapsed": false,
    "pycharm": {
     "name": "#%% md\n"
    }
   }
  },
  {
   "cell_type": "code",
   "execution_count": 14,
   "outputs": [
    {
     "data": {
      "text/plain": "(<tf.Variable 'Variable:0' shape=(2,) dtype=int32, numpy=array([10,  7], dtype=int32)>,\n <tf.Tensor: shape=(2,), dtype=int32, numpy=array([10,  7], dtype=int32)>)"
     },
     "execution_count": 14,
     "metadata": {},
     "output_type": "execute_result"
    }
   ],
   "source": [
    "# Create the same tensor with tf.Variable() as above\n",
    "changeable_tensor = tf.Variable([10,7])\n",
    "unchangeable_tensor = tf.constant([10,7])\n",
    "changeable_tensor, unchangeable_tensor"
   ],
   "metadata": {
    "collapsed": false,
    "pycharm": {
     "name": "#%%\n"
    }
   }
  },
  {
   "cell_type": "code",
   "execution_count": 15,
   "outputs": [
    {
     "ename": "TypeError",
     "evalue": "'ResourceVariable' object does not support item assignment",
     "output_type": "error",
     "traceback": [
      "\u001B[0;31m---------------------------------------------------------------------------\u001B[0m",
      "\u001B[0;31mTypeError\u001B[0m                                 Traceback (most recent call last)",
      "Input \u001B[0;32mIn [15]\u001B[0m, in \u001B[0;36m<cell line: 2>\u001B[0;34m()\u001B[0m\n\u001B[1;32m      1\u001B[0m \u001B[38;5;66;03m#Let's try change one of elements in our changeable tensor\u001B[39;00m\n\u001B[0;32m----> 2\u001B[0m changeable_tensor[\u001B[38;5;241m0\u001B[39m] \u001B[38;5;241m=\u001B[39m \u001B[38;5;241m7\u001B[39m\n\u001B[1;32m      3\u001B[0m changeable_tensor\n",
      "\u001B[0;31mTypeError\u001B[0m: 'ResourceVariable' object does not support item assignment"
     ]
    }
   ],
   "source": [
    "#Let's try change one of elements in our changeable tensor\n",
    "changeable_tensor[0] = 7\n",
    "changeable_tensor"
   ],
   "metadata": {
    "collapsed": false,
    "pycharm": {
     "name": "#%%\n"
    }
   }
  },
  {
   "cell_type": "code",
   "execution_count": null,
   "outputs": [],
   "source": [
    "# How about we try .assign()\n",
    "changeable_tensor[0].assign(7)\n",
    "changeable_tensor"
   ],
   "metadata": {
    "collapsed": false,
    "pycharm": {
     "name": "#%%\n"
    }
   }
  },
  {
   "cell_type": "code",
   "execution_count": null,
   "outputs": [],
   "source": [
    "# Let's try to change unchangeable tensor\n",
    "unchangeable_tensor[0].assign(7)\n",
    "unchangeable_tensor"
   ],
   "metadata": {
    "collapsed": false,
    "pycharm": {
     "name": "#%%\n"
    }
   }
  },
  {
   "cell_type": "markdown",
   "source": [
    "🔑 **Note:** Rarely in practice will you need to decide wheer to use `tf.constant` or `tf.variable` to create tensors, as tensorflow dows this for you, if in doubt, use `tf.constant` and change it later if needed."
   ],
   "metadata": {
    "collapsed": false,
    "pycharm": {
     "name": "#%% md\n"
    }
   }
  },
  {
   "cell_type": "markdown",
   "source": [
    "## Creating random tensors\n",
    "\n",
    "Random tensors are tensors of some arbitrary size which contain random numbers.\n",
    "Use `tf.random` function"
   ],
   "metadata": {
    "collapsed": false,
    "pycharm": {
     "name": "#%% md\n"
    }
   }
  },
  {
   "cell_type": "code",
   "execution_count": null,
   "outputs": [],
   "source": [
    "# Create two random (but the same) tensors\n",
    "random_1 = tf.random.Generator.from_seed(7) #set seed for reproducibility\n",
    "random_1 = random_1.normal(shape=(3,2))\n",
    "random_2 = tf.random.Generator.from_seed(7)\n",
    "random_2 = random_2.normal(shape=(3,2))\n",
    "\n",
    "#Are they equal?\n",
    "random_1, random_2, random_1==random_2"
   ],
   "metadata": {
    "collapsed": false,
    "pycharm": {
     "name": "#%%\n"
    }
   }
  },
  {
   "cell_type": "markdown",
   "source": [
    "## Shuffle the order of elements in a tensor\n",
    "Use `random.shuffle`, shuffles along first direction\n"
   ],
   "metadata": {
    "collapsed": false,
    "pycharm": {
     "name": "#%% md\n"
    }
   }
  },
  {
   "cell_type": "code",
   "execution_count": null,
   "outputs": [],
   "source": [
    "# Shuffle a tensor ( valuable for when you want to shuffle the data so that the inherent order does not affect learnings)\n",
    "not_shuffled = tf.constant([[10,7],\n",
    "                            [3,4],\n",
    "                            [2,5]])\n",
    "# Shuffled our not shuffled tensor\n",
    "tf.random.shuffle(not_shuffled) #shuffled along axis 0 i.e, 3"
   ],
   "metadata": {
    "collapsed": false,
    "pycharm": {
     "name": "#%%\n"
    }
   }
  },
  {
   "cell_type": "code",
   "execution_count": null,
   "outputs": [],
   "source": [
    "# Shuffled our not shuffled tensor\n",
    "tf.random.set_seed(42) #global level seed\n",
    "tf.random.shuffle(not_shuffled, seed=42) #operation level seed"
   ],
   "metadata": {
    "collapsed": false,
    "pycharm": {
     "name": "#%%\n"
    }
   }
  },
  {
   "cell_type": "markdown",
   "source": [
    "## Exercise 🔨 🔨\n",
    "\n",
    "Read through Tensorflow documentation on random seed generation:\n",
    "https://www.tensorflow.org/api_docs/python/tf/random/set_seed\n",
    "\n",
    "Practice writing 5 random tensors and shuffle them.\n"
   ],
   "metadata": {
    "collapsed": false,
    "pycharm": {
     "name": "#%% md\n"
    }
   }
  },
  {
   "cell_type": "code",
   "execution_count": null,
   "outputs": [],
   "source": [
    "not_shuffled"
   ],
   "metadata": {
    "collapsed": false,
    "pycharm": {
     "name": "#%%\n"
    }
   }
  },
  {
   "cell_type": "code",
   "execution_count": 100,
   "outputs": [
    {
     "name": "stdout",
     "output_type": "stream",
     "text": [
      "tf.Tensor(\n",
      "[[5 6]\n",
      " [1 2]\n",
      " [3 4]], shape=(3, 2), dtype=int32)\n",
      "tf.Tensor(\n",
      "[[5 6]\n",
      " [3 4]\n",
      " [1 2]], shape=(3, 2), dtype=int32)\n"
     ]
    }
   ],
   "source": [
    "a = tf.constant([[1,2],\n",
    "                [3,4],\n",
    "                 [5,6]])\n",
    "\n",
    "# Both global and local seed set and not same result\n",
    "tf.random.set_seed(44)\n",
    "print(tf.random.shuffle(a, seed = 37))\n",
    "print(tf.random.shuffle(a, seed = 37))"
   ],
   "metadata": {
    "collapsed": false,
    "pycharm": {
     "name": "#%%\n"
    }
   }
  },
  {
   "cell_type": "code",
   "execution_count": 102,
   "outputs": [
    {
     "name": "stdout",
     "output_type": "stream",
     "text": [
      "tf.Tensor(\n",
      "[[5 6]\n",
      " [1 2]\n",
      " [3 4]], shape=(3, 2), dtype=int32)\n",
      "tf.Tensor(\n",
      "[[5 6]\n",
      " [1 2]\n",
      " [3 4]], shape=(3, 2), dtype=int32)\n"
     ]
    }
   ],
   "source": [
    "a_new = tf.constant([[1,2],\n",
    "                [3,4],\n",
    "                 [5,6]])\n",
    "\n",
    "# Both global and local seed set and giving same result\n",
    "tf.random.set_seed(44)\n",
    "print(tf.random.shuffle(a_new, seed = 37))\n",
    "tf.random.set_seed(44)\n",
    "print(tf.random.shuffle(a_new, seed = 37))"
   ],
   "metadata": {
    "collapsed": false,
    "pycharm": {
     "name": "#%%\n"
    }
   }
  },
  {
   "cell_type": "code",
   "execution_count": 103,
   "outputs": [
    {
     "name": "stdout",
     "output_type": "stream",
     "text": [
      "tf.Tensor(\n",
      "[[3 4]\n",
      " [1 2]\n",
      " [5 6]], shape=(3, 2), dtype=int32)\n",
      "tf.Tensor(\n",
      "[[3 4]\n",
      " [1 2]\n",
      " [5 6]], shape=(3, 2), dtype=int32)\n",
      "tf.Tensor(\n",
      "[[3 4]\n",
      " [1 2]\n",
      " [5 6]], shape=(3, 2), dtype=int32)\n"
     ]
    }
   ],
   "source": [
    "#Global seed set and local not set, gives same result for every call\n",
    "b = tf.constant([[1,2],\n",
    "                [3,4],\n",
    "                 [5,6]])\n",
    "tf.random.set_seed(44)\n",
    "print(tf.random.shuffle(b))\n",
    "print(tf.random.shuffle(b))\n",
    "print(tf.random.shuffle(b))"
   ],
   "metadata": {
    "collapsed": false,
    "pycharm": {
     "name": "#%%\n"
    }
   }
  },
  {
   "cell_type": "code",
   "execution_count": 85,
   "outputs": [
    {
     "name": "stdout",
     "output_type": "stream",
     "text": [
      "tf.Tensor(\n",
      "[[3 4]\n",
      " [5 6]\n",
      " [1 2]], shape=(3, 2), dtype=int32)\n",
      "tf.Tensor(\n",
      "[[5 6]\n",
      " [3 4]\n",
      " [1 2]], shape=(3, 2), dtype=int32)\n"
     ]
    }
   ],
   "source": [
    "#Global seed not set and local set then internal counter is maintatined\n",
    "c = tf.constant([[1,2],\n",
    "                [3,4],\n",
    "                 [5,6]])\n",
    "print(tf.random.shuffle(c, seed = 37))\n",
    "print(tf.random.shuffle(c, seed = 37))"
   ],
   "metadata": {
    "collapsed": false,
    "pycharm": {
     "name": "#%%\n"
    }
   }
  },
  {
   "cell_type": "code",
   "execution_count": 90,
   "outputs": [
    {
     "name": "stdout",
     "output_type": "stream",
     "text": [
      "tf.Tensor(\n",
      "[[1 2]\n",
      " [5 6]\n",
      " [3 4]], shape=(3, 2), dtype=int32)\n",
      "tf.Tensor(\n",
      "[[5 6]\n",
      " [1 2]\n",
      " [3 4]], shape=(3, 2), dtype=int32)\n"
     ]
    }
   ],
   "source": [
    "#No seed is set, different results for every call\n",
    "d = tf.constant([[1,2],\n",
    "                [3,4],\n",
    "                 [5,6]])\n",
    "print(tf.random.shuffle(d))\n",
    "print(tf.random.shuffle(d))"
   ],
   "metadata": {
    "collapsed": false,
    "pycharm": {
     "name": "#%%\n"
    }
   }
  },
  {
   "cell_type": "code",
   "execution_count": 94,
   "outputs": [
    {
     "name": "stdout",
     "output_type": "stream",
     "text": [
      "tf.Tensor(\n",
      "[[1 2]\n",
      " [3 4]\n",
      " [5 6]], shape=(3, 2), dtype=int32)\n",
      "tf.Tensor(\n",
      "[[1 2]\n",
      " [3 4]\n",
      " [5 6]], shape=(3, 2), dtype=int32)\n"
     ]
    }
   ],
   "source": [
    "# setting global and local seed to 0 it will not generate any random sequences\n",
    "e = tf.constant([[1,2],\n",
    "                [3,4],\n",
    "                 [5,6]])\n",
    "tf.random.set_seed(0)\n",
    "print(tf.random.shuffle(e, seed = 0))\n",
    "print(tf.random.shuffle(e, seed = 0))"
   ],
   "metadata": {
    "collapsed": false,
    "pycharm": {
     "name": "#%%\n"
    }
   }
  },
  {
   "cell_type": "code",
   "execution_count": 92,
   "outputs": [],
   "source": [],
   "metadata": {
    "collapsed": false,
    "pycharm": {
     "name": "#%%\n"
    }
   }
  },
  {
   "cell_type": "code",
   "execution_count": null,
   "outputs": [],
   "source": [],
   "metadata": {
    "collapsed": false,
    "pycharm": {
     "name": "#%%\n"
    }
   }
  }
 ],
 "metadata": {
  "kernelspec": {
   "display_name": "Python 3",
   "language": "python",
   "name": "python3"
  },
  "language_info": {
   "codemirror_mode": {
    "name": "ipython",
    "version": 2
   },
   "file_extension": ".py",
   "mimetype": "text/x-python",
   "name": "python",
   "nbconvert_exporter": "python",
   "pygments_lexer": "ipython2",
   "version": "2.7.6"
  }
 },
 "nbformat": 4,
 "nbformat_minor": 0
}